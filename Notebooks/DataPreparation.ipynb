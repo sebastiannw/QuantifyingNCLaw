{
 "cells": [
  {
   "cell_type": "code",
   "execution_count": 72,
   "metadata": {},
   "outputs": [],
   "source": [
    "import pandas as pd\n",
    "import numpy as np\n",
    "import os"
   ]
  },
  {
   "cell_type": "code",
   "execution_count": 73,
   "metadata": {},
   "outputs": [],
   "source": [
    "def isnumber(x):\n",
    "    '''Function to check if a string contains a number'''\n",
    "    try:\n",
    "        float(x)\n",
    "        return True\n",
    "    except:\n",
    "        return False"
   ]
  },
  {
   "cell_type": "code",
   "execution_count": 74,
   "metadata": {},
   "outputs": [],
   "source": [
    "year = '2004'"
   ]
  },
  {
   "cell_type": "code",
   "execution_count": 79,
   "metadata": {},
   "outputs": [],
   "source": [
    "# Load HMDA data\n",
    "hmda = pd.read_csv('hmda' + year + '.csv', \n",
    "                   dtype={'respondent_id': 'str', 'agency_code': 'str', 'state_code': 'str', 'county_code': 'str', \n",
    "                          'applicant_race': 'str', 'co_applicant_race': 'str', \n",
    "                          'applicant_race_1': 'str', 'co_applicant_race_1': 'str', \n",
    "                          'loan_amount': 'str', 'applicant_income': 'str'})\n",
    "\n",
    "\n",
    "# Load HUD subprime lenders data\n",
    "subprimes = pd.read_csv('subprime' + year + '.csv', dtype={'IDD': 'str', 'MH': 'str'})\n",
    "subprimes.columns = ['idd', 'code', 'id', 'mh', 'name']"
   ]
  },
  {
   "cell_type": "code",
   "execution_count": 89,
   "metadata": {},
   "outputs": [],
   "source": [
    "# Filter relevants states\n",
    "data = hmda[hmda.state_code.isin(['01', '13', '27', '37', '45', '51'])].copy()\n",
    "\n",
    "# Create lender idd\n",
    "data['idd'] = data.agency_code + data.respondent_id\n",
    "\n",
    "# Create new race categories\n",
    "data['race_flag'] = 1 # 1: applicant and co-applicant are black\n",
    "\n",
    "if int(year) < 2004:\n",
    "    data.loc[(data.applicant_race != '3') & (data.co_applicant_race != '3'), 'race_flag'] = 2 # 2: other\n",
    "    data.loc[(data.applicant_race == '5') & (data.co_applicant_race.isin(['5', '7', '8'])), 'race_flag'] = 3 # 3: white\n",
    "    data.loc[(~data.applicant_race.isin(['1', '2', '3', '4', '5', '6'])) | \n",
    "                 (~data.co_applicant_race.isin(['1', '2', '3', '4', '5', '6', '8'])), 'race_flag'] = 3 # 4: misreported\n",
    "    \n",
    "else:\n",
    "    data.loc[(data.applicant_race_1 != '3') & (data.co_applicant_race_1 != '3'), 'race_flag'] = 2 # 2: other\n",
    "    data.loc[(data.applicant_race_1 == '5') & (data.co_applicant_race_1.isin(['5', '7', '8'])), 'race_flag'] = 3 # 3: white\n",
    "    data.loc[(~data.applicant_race_1.isin(['1', '2', '3', '4', '5', '6'])) | \n",
    "                 (~data.co_applicant_race_1.isin(['1', '2', '3', '4', '5', '6', '8'])), 'race_flag'] = 3 # 4: misreported"
   ]
  },
  {
   "cell_type": "code",
   "execution_count": 90,
   "metadata": {},
   "outputs": [
    {
     "data": {
      "text/plain": [
       "as_of_year               0\n",
       "idd                      0\n",
       "state_code               0\n",
       "county_code          13923\n",
       "loan_type                0\n",
       "loan_purpose             0\n",
       "action_taken             0\n",
       "race_flag                0\n",
       "applicant_income    588143\n",
       "loan_amount              0\n",
       "dtype: int64"
      ]
     },
     "execution_count": 90,
     "metadata": {},
     "output_type": "execute_result"
    }
   ],
   "source": [
    "# Select relevant columns\n",
    "data = data.loc[:, ['as_of_year', 'idd', 'state_code', 'county_code', 'loan_type', 'loan_purpose',\n",
    "                    'action_taken', 'race_flag', 'applicant_income', 'loan_amount']].copy()\n",
    "data.loc[:, [\n",
    "    'as_of_year', 'loan_type', 'loan_purpose', 'action_taken', 'race_flag', 'applicant_income', 'loan_amount']\n",
    "        ] = data[data.loc[:, [\n",
    "    'as_of_year', 'loan_type', 'loan_purpose', 'action_taken', 'race_flag', 'applicant_income', 'loan_amount']\n",
    "        ].applymap(isnumber)]\n",
    "data.applicant_income = data.applicant_income.astype('float64')\n",
    "data.loan_amount = data.loan_amount.astype('float64')\n",
    "#data.isna().sum()"
   ]
  },
  {
   "cell_type": "code",
   "execution_count": 91,
   "metadata": {},
   "outputs": [
    {
     "data": {
      "text/plain": [
       "as_of_year          0\n",
       "idd                 0\n",
       "state_code          0\n",
       "county_code         0\n",
       "loan_type           0\n",
       "loan_purpose        0\n",
       "action_taken        0\n",
       "race_flag           0\n",
       "applicant_income    0\n",
       "loan_amount         0\n",
       "dtype: int64"
      ]
     },
     "execution_count": 91,
     "metadata": {},
     "output_type": "execute_result"
    }
   ],
   "source": [
    "data.loc[:, ['applicant_income', 'loan_amount']] = data.loc[\n",
    "    :, ['applicant_income', 'loan_amount']\n",
    "].fillna(data.loc[:, ['applicant_income', 'loan_amount']].mean())\n",
    "\n",
    "data = data.dropna()\n",
    "#data.isna().sum()"
   ]
  },
  {
   "cell_type": "code",
   "execution_count": 93,
   "metadata": {
    "scrolled": true
   },
   "outputs": [],
   "source": [
    "# Changing loan_type to multiple columns\n",
    "data['conventional_loans'] = 0\n",
    "data['FHA_loans']          = 0\n",
    "data['VA_loans']           = 0\n",
    "data['FSA_RHS_loans']      = 0\n",
    "\n",
    "data.loc[data.loan_type == 1, 'conventional_loans'] = 1\n",
    "data.loc[data.loan_type == 2, 'FHA_loans']          = 1\n",
    "data.loc[data.loan_type == 3, 'VA_loans']           = 1\n",
    "data.loc[data.loan_type == 4, 'FSA_RHS_loans']      = 1\n",
    "\n",
    "\n",
    "# Changing loan_purpose to multiple columns\n",
    "data['purchase']    = 0\n",
    "data['improvement'] = 0\n",
    "data['refinancing'] = 0\n",
    "data['multifamily'] = 0\n",
    "\n",
    "data.loc[data.loan_purpose == 1, 'purchase']    = 1\n",
    "data.loc[data.loan_purpose == 2, 'improvement'] = 1\n",
    "data.loc[data.loan_purpose == 3, 'refinancing'] = 1\n",
    "data.loc[data.loan_purpose == 4, 'multifamily'] = 1\n",
    "\n",
    "\n",
    "# Changing action_taken to multiple columns\n",
    "data['loans_originated']              = 0\n",
    "data['loans_approved_not_originated'] = 0\n",
    "data['loans_denied']                  = 0\n",
    "data['other_loans']                   = 0\n",
    "\n",
    "data.loc[data.action_taken == 1, 'loans_originated']              = 1\n",
    "data.loc[data.action_taken == 2, 'loans_approved_not_originated'] = 1\n",
    "data.loc[data.action_taken == 3, 'loans_denied']                  = 1\n",
    "data.loc[~data.action_taken.isin([1, 2, 3]), 'other_loans']       = 1\n",
    "\n",
    "\n",
    "# Changing race_flag to multiple columns\n",
    "data['race_black'] = 0\n",
    "data['race_other'] = 0\n",
    "data['race_white'] = 0\n",
    "data['race_msrpd'] = 0\n",
    "\n",
    "data.loc[data['race_flag'] == 1, 'race_black'] = 1\n",
    "data.loc[data['race_flag'] == 2, 'race_other'] = 1\n",
    "data.loc[data['race_flag'] == 3, 'race_white'] = 1\n",
    "data.loc[data['race_flag'] == 4, 'race_msrpd'] = 1\n",
    "\n",
    "# Add subprime flag\n",
    "data = pd.merge(data, subprimes, on='idd', how='left')\n",
    "\n",
    "data['subprime'] = 0\n",
    "\n",
    "data.loc[data.mh.isin(['1']), 'subprime'] = 1\n",
    "\n",
    "# Add subprime_originated column\n",
    "data['subprime_originated'] = 0\n",
    "\n",
    "data.loc[(data.action_taken == 1) & (data.subprime == 1), 'subprime_originated'] = 1\n",
    "\n",
    "# Adding column for total amount of subprime loans\n",
    "data['subprime_amount'] = 0\n",
    "\n",
    "data.loc[data.subprime == 1, 'subprime_amount'] = data.loc[data.subprime == 1, 'loan_amount']\n",
    "\n",
    "# Adding column for total amount of originated subprime loans\n",
    "data['subprime_amount_originated'] = 0\n",
    "\n",
    "data.loc[(data.action_taken == 1) & (data.subprime == 1), 'subprime_amount_originated'] = data.loc[\n",
    "    (data.action_taken == 1) & (data.subprime == 1), 'loan_amount'\n",
    "]\n",
    "\n",
    "# Adding total column\n",
    "data['total'] = 1"
   ]
  },
  {
   "cell_type": "code",
   "execution_count": 95,
   "metadata": {},
   "outputs": [],
   "source": [
    "# Grouping data by state and year\n",
    "state_data = (data.groupby(['as_of_year', 'state_code'])\n",
    "              .agg({'applicant_income': 'sum', 'loan_amount': 'sum', \n",
    "                  'conventional_loans': 'sum', 'FHA_loans': 'sum', 'VA_loans': 'sum', 'FSA_RHS_loans': 'sum',\n",
    "                  'purchase': 'sum', 'improvement': 'sum', 'refinancing': 'sum', 'multifamily': 'sum',\n",
    "                  'loans_originated': 'sum', 'loans_approved_not_originated': 'sum', 'loans_denied': 'sum', 'other_loans': 'sum',\n",
    "                  'race_black': 'sum', 'race_other': 'sum', 'race_white': 'sum', 'race_msrpd': 'sum',\n",
    "                  'subprime': 'sum', 'subprime_originated': 'sum', 'subprime_amount': 'sum', 'subprime_amount_originated': 'sum',\n",
    "                  'total': 'sum'})\n",
    "              .reset_index())"
   ]
  },
  {
   "cell_type": "code",
   "execution_count": 96,
   "metadata": {},
   "outputs": [],
   "source": [
    "# Adding diff in diff dummy variable\n",
    "state_data['did'] = 0\n",
    "\n",
    "if int(year) >= 1999:\n",
    "    state_data.loc[state_data.state_code == '37', 'did'] = 1"
   ]
  },
  {
   "cell_type": "code",
   "execution_count": 98,
   "metadata": {},
   "outputs": [],
   "source": [
    "# Appending to CSV\n",
    "#state_data.to_csv('state_data.csv', mode='a', header=(not os.path.exists('state_data.csv')))"
   ]
  },
  {
   "cell_type": "code",
   "execution_count": 104,
   "metadata": {},
   "outputs": [],
   "source": [
    "# Creating dataset with percentages\n",
    "state_data_2 = state_data.copy()\n",
    "\n",
    "for i in range(2, 22):\n",
    "    state_data_2.iloc[:, i] = state_data_2.iloc[:, i] / state_data_2.total\n",
    "    \n",
    "state_data_2.iloc[:, 22] = state_data_2.iloc[:, 22] / state_data.subprime\n",
    "state_data_2.iloc[:, 23] = state_data_2.iloc[:, 23] / state_data.subprime_originated"
   ]
  },
  {
   "cell_type": "code",
   "execution_count": 99,
   "metadata": {},
   "outputs": [],
   "source": [
    "# Appending to CSV\n",
    "#state_data_2.to_csv('state_data_2.csv', mode='a', header=(not os.path.exists('state_data_2.csv')))"
   ]
  },
  {
   "cell_type": "code",
   "execution_count": 107,
   "metadata": {},
   "outputs": [],
   "source": [
    "# Grouping data by state, county, and year\n",
    "county_data = (data.groupby(['as_of_year', 'state_code', 'county_code'])\n",
    "              .agg({'applicant_income': 'sum', 'loan_amount': 'sum', \n",
    "                  'conventional_loans': 'sum', 'FHA_loans': 'sum', 'VA_loans': 'sum', 'FSA_RHS_loans': 'sum',\n",
    "                  'purchase': 'sum', 'improvement': 'sum', 'refinancing': 'sum', 'multifamily': 'sum',\n",
    "                  'loans_originated': 'sum', 'loans_approved_not_originated': 'sum', 'loans_denied': 'sum', 'other_loans': 'sum',\n",
    "                  'race_black': 'sum', 'race_other': 'sum', 'race_white': 'sum', 'race_msrpd': 'sum',\n",
    "                  'subprime': 'sum', 'subprime_originated': 'sum', 'subprime_amount': 'sum', 'subprime_amount_originated': 'sum',\n",
    "                  'total': 'sum'})\n",
    "              .reset_index())"
   ]
  },
  {
   "cell_type": "code",
   "execution_count": 108,
   "metadata": {},
   "outputs": [],
   "source": [
    "# Adding diff in diff dummy variable\n",
    "county_data['did'] = 0\n",
    "\n",
    "if int(year) >= 1999:\n",
    "    county_data.loc[county_data.state_code == '37', 'did'] = 1"
   ]
  },
  {
   "cell_type": "code",
   "execution_count": null,
   "metadata": {},
   "outputs": [],
   "source": [
    "# Appending to CSV\n",
    "#county_data.to_csv('county_data.csv', mode='a', header=(not os.path.exists('county_data.csv')))"
   ]
  },
  {
   "cell_type": "code",
   "execution_count": 109,
   "metadata": {},
   "outputs": [],
   "source": [
    "# Creating dataset with percentages\n",
    "county_data_2 = county_data.copy()\n",
    "\n",
    "for i in range(3, 23):\n",
    "    county_data_2.iloc[:, i] = county_data_2.iloc[:, i] / county_data_2.total\n",
    "    \n",
    "county_data_2.iloc[:, 23] = county_data_2.iloc[:, 23] / county_data.subprime\n",
    "county_data_2.iloc[:, 24] = county_data_2.iloc[:, 24] / county_data.subprime_originated"
   ]
  },
  {
   "cell_type": "code",
   "execution_count": null,
   "metadata": {},
   "outputs": [],
   "source": [
    "# Appending to CSV\n",
    "#county_data_2.to_csv('county_data_2.csv', mode='a', header=(not os.path.exists('county_data_2.csv')))"
   ]
  }
 ],
 "metadata": {
  "kernelspec": {
   "display_name": "Python 3",
   "language": "python",
   "name": "python3"
  },
  "language_info": {
   "codemirror_mode": {
    "name": "ipython",
    "version": 3
   },
   "file_extension": ".py",
   "mimetype": "text/x-python",
   "name": "python",
   "nbconvert_exporter": "python",
   "pygments_lexer": "ipython3",
   "version": "3.7.4"
  }
 },
 "nbformat": 4,
 "nbformat_minor": 2
}
